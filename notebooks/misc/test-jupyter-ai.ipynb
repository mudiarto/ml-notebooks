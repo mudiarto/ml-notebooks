{
 "cells": [
  {
   "cell_type": "markdown",
   "id": "c4ace2cd-5f4a-4ae1-bd19-c64757e4e1bb",
   "metadata": {},
   "source": [
    "# Jupyter-ai test\n",
    "\n",
    "based on the jupyter-ai documentation: https://jupyter-ai.readthedocs.io/en/latest/users/index.html#"
   ]
  },
  {
   "cell_type": "code",
   "execution_count": 1,
   "id": "32ae3881-bca0-4ce8-8286-d5cf1f740acf",
   "metadata": {},
   "outputs": [],
   "source": [
    "%load_ext jupyter_ai_magics"
   ]
  },
  {
   "cell_type": "markdown",
   "id": "95710f5f-6a4d-47fd-960f-15327bd98cbe",
   "metadata": {},
   "source": [
    "use `%ai list`to list available ai\n",
    "refs: https://jupyter-ai.readthedocs.io/en/latest/users/index.html#listing-available-models\n",
    "NOTE the alias in the end as well to allow shorter name for a model - e.g. chatgpt"
   ]
  },
  {
   "cell_type": "markdown",
   "id": "f90b8012-ac71-422f-bf58-62462acf3ac4",
   "metadata": {},
   "source": [
    "# %ai list\n",
    "# %ai list openai"
   ]
  },
  {
   "cell_type": "markdown",
   "id": "2187f199-6d39-44cc-8744-7d94ca527c2d",
   "metadata": {},
   "source": [
    "jupyter-ai support different outputs (code, markdown, math, html, image, json, text)\n",
    "\n",
    "see: https://jupyter-ai.readthedocs.io/en/latest/users/index.html#formatting-the-output"
   ]
  },
  {
   "cell_type": "code",
   "execution_count": 8,
   "id": "ace028bc-d4c0-46cc-9832-4598e7d93f6a",
   "metadata": {},
   "outputs": [
    {
     "data": {
      "text/html": [
       "AI generated code inserted below &#11015;&#65039;"
      ],
      "text/plain": [
       "<IPython.core.display.HTML object>"
      ]
     },
     "execution_count": 8,
     "metadata": {
      "text/html": {
       "jupyter_ai": {
        "model_id": "gpt-3.5-turbo",
        "provider_id": "openai-chat"
       }
      }
     },
     "output_type": "execute_result"
    }
   ],
   "source": [
    "%%ai chatgpt -f code\n",
    "A function that computes the lowest common multiples of two integers, and\n",
    "a function that runs 5 test cases of the lowest common multiple function"
   ]
  },
  {
   "cell_type": "code",
   "execution_count": 13,
   "id": "5d9e0349-f633-4a0a-a133-5c8fb3c79efc",
   "metadata": {},
   "outputs": [
    {
     "name": "stdout",
     "output_type": "stream",
     "text": [
      "all test passed!\n"
     ]
    }
   ],
   "source": [
    "def lcm(a, b):\n",
    "    def gcd(x, y):\n",
    "        while y:\n",
    "            x, y = y, x % y\n",
    "        return x\n",
    "\n",
    "    return abs(a * b) // gcd(a, b)\n",
    "\n",
    "def test_lcm():\n",
    "    assert lcm(3, 5) == 15\n",
    "    assert lcm(10, 15) == 30\n",
    "    assert lcm(7, 9) == 63\n",
    "    assert lcm(20, 25) == 100\n",
    "    assert lcm(12, 18) == 36\n",
    "    print(\"all test passed!\")\n",
    "\n",
    "test_lcm()"
   ]
  },
  {
   "cell_type": "code",
   "execution_count": null,
   "id": "8ab7ae18-7fa3-4e5a-bf58-224a50ca6c7e",
   "metadata": {},
   "outputs": [],
   "source": []
  }
 ],
 "metadata": {
  "kernelspec": {
   "display_name": "Python 3 (ipykernel)",
   "language": "python",
   "name": "python3"
  },
  "language_info": {
   "codemirror_mode": {
    "name": "ipython",
    "version": 3
   },
   "file_extension": ".py",
   "mimetype": "text/x-python",
   "name": "python",
   "nbconvert_exporter": "python",
   "pygments_lexer": "ipython3",
   "version": "3.11.9"
  }
 },
 "nbformat": 4,
 "nbformat_minor": 5
}
