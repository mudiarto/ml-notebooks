{
 "cells": [
  {
   "cell_type": "code",
   "execution_count": null,
   "id": "748f4f2c-8bf7-4ff6-9437-682215900804",
   "metadata": {},
   "outputs": [],
   "source": [
    "import inspect # inspect live objects\n",
    "import torch\n",
    "import torch.nn.functional as F\n",
    "import matplotlib.pyplot as plt # for making figures\n",
    "\n",
    "from PIL import Image\n",
    "\n",
    "from icecream import ic # debugger help\n",
    "from nbdev.showdoc import *\n",
    "\n",
    "%matplotlib inline"
   ]
  },
  {
   "cell_type": "code",
   "execution_count": null,
   "id": "61e1055a-54a7-4e09-ba73-1249dec52f85",
   "metadata": {},
   "outputs": [],
   "source": [
    "from fastai.vision.all import *\n",
    "path = untar_data(URLs.PETS)/'images'\n",
    "\n",
    "print(path) "
   ]
  },
  {
   "cell_type": "code",
   "execution_count": null,
   "id": "1a8a15d3-6d74-4e2c-9578-0467bc259018",
   "metadata": {},
   "outputs": [],
   "source": [
    "\n",
    "image_list = list(path.glob('*'))\n",
    "len(image_list)"
   ]
  },
  {
   "cell_type": "code",
   "execution_count": null,
   "id": "cfe0135f-4d82-416e-8675-811493215d3e",
   "metadata": {},
   "outputs": [],
   "source": [
    "i = 13\n",
    "print(image_list[i])\n",
    "img = Image.open(image_list[i])\n",
    "img"
   ]
  },
  {
   "cell_type": "code",
   "execution_count": null,
   "id": "c20e5b7d-922c-4216-850c-d5e6d8207b8a",
   "metadata": {},
   "outputs": [],
   "source": [
    "# image as tensor\n",
    "img_ts = tensor(img)\n",
    "ic(img_ts.shape) # 3 dim tensor (w, h, 3) - (3 for rgb value)\n",
    "ic(img_ts[0][0])\n"
   ]
  },
  {
   "cell_type": "code",
   "execution_count": null,
   "id": "3eadff83-0c64-41d3-bd19-18506b6d3b50",
   "metadata": {},
   "outputs": [],
   "source": [
    "\n",
    "# the dataset starts with capital letter if it is a cat, and lower letter if it is a dog\n",
    "def is_cat(x): return x[0].isupper()\n",
    "\n",
    "\n",
    "# doc(ImageDataLoaders)\n",
    "dls = ImageDataLoaders.from_name_func(\n",
    "    path, get_image_files(path), valid_pct=0.2, seed=42,\n",
    "    label_func=is_cat, item_tfms=Resize(224))"
   ]
  },
  {
   "cell_type": "code",
   "execution_count": null,
   "id": "85d12a32-f4a4-4b7a-b994-40c24c73bf5a",
   "metadata": {},
   "outputs": [],
   "source": [
    "# explore dls\n",
    "# use ?dls ??dls  doc(dls)\n",
    "# content of it:\n",
    "# - check the variables: vars(dls)\n",
    "# - DO NOT CALL: inspect.getmembers(dls) - without predicate - so big\n",
    "# - inspect.getmembers(dls, predicate=inspect.ismethod) # get methods\n",
    "# - [method[0] for method in inspect.getmembers(dls, predicate=inspect.ismethod) if not method[0].startswith(\"_\")] # public method\n",
    "# \n"
   ]
  },
  {
   "cell_type": "code",
   "execution_count": null,
   "id": "317fe1a7-1a79-4172-9d7c-ab6034d85a86",
   "metadata": {},
   "outputs": [],
   "source": [
    "# put in cuda\n",
    "if torch.cuda.is_available():\n",
    "    dls = dls.cuda()\n",
    "    print(\"Running with CUDA\")\n",
    "else:\n",
    "    print(\"CUDA NOT AVAILABLE\")"
   ]
  },
  {
   "cell_type": "code",
   "execution_count": null,
   "id": "714937a2f8233190",
   "metadata": {},
   "outputs": [],
   "source": [
    "\n",
    "    \n",
    "learn = vision_learner(dls, resnet34, metrics=error_rate)"
   ]
  },
  {
   "cell_type": "code",
   "execution_count": null,
   "id": "541b91e1-a116-418b-87c2-b6e9c5cc54db",
   "metadata": {},
   "outputs": [],
   "source": [
    "\n",
    "learn.fine_tune(1)"
   ]
  },
  {
   "cell_type": "code",
   "execution_count": null,
   "id": "266065b5-4cce-450b-ab33-a8d8511df672",
   "metadata": {},
   "outputs": [],
   "source": [
    "doc(vision_learner)"
   ]
  },
  {
   "cell_type": "code",
   "execution_count": null,
   "id": "81c846c9-2262-4856-bc75-3b11e2d1e5b4",
   "metadata": {},
   "outputs": [],
   "source": []
  }
 ],
 "metadata": {
  "kernelspec": {
   "display_name": "Python 3 (ipykernel)",
   "language": "python",
   "name": "python3"
  },
  "language_info": {
   "codemirror_mode": {
    "name": "ipython",
    "version": 3
   },
   "file_extension": ".py",
   "mimetype": "text/x-python",
   "name": "python",
   "nbconvert_exporter": "python",
   "pygments_lexer": "ipython3",
   "version": "3.11.9"
  }
 },
 "nbformat": 4,
 "nbformat_minor": 5
}
